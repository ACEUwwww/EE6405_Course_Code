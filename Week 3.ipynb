{
 "cells": [
  {
   "cell_type": "markdown",
   "metadata": {},
   "source": [
    "### 1. Term Weighting (TF-IDF and BM25)"
   ]
  },
  {
   "cell_type": "code",
   "execution_count": null,
   "metadata": {},
   "outputs": [
    {
     "name": "stdout",
     "output_type": "stream",
     "text": [
      "[[0.         0.         0.25416974]\n",
      " [0.28853988 0.         0.        ]\n",
      " [0.1704163  0.16209543 0.15011674]\n",
      " [0.28853988 0.         0.        ]\n",
      " [0.         0.27445143 0.        ]\n",
      " [0.28853988 0.         0.        ]\n",
      " [0.21944202 0.         0.19330264]\n",
      " [0.21944202 0.         0.19330264]\n",
      " [0.28853988 0.         0.        ]\n",
      " [0.         0.         0.25416974]\n",
      " [0.         0.27445143 0.        ]\n",
      " [0.28853988 0.         0.        ]\n",
      " [0.28853988 0.         0.        ]\n",
      " [0.         0.         0.25416974]\n",
      " [0.         0.27445143 0.        ]\n",
      " [0.         0.27445143 0.        ]\n",
      " [0.         0.         0.25416974]\n",
      " [0.         0.         0.25416974]\n",
      " [0.         0.27445143 0.        ]\n",
      " [0.         0.         0.25416974]\n",
      " [0.         0.         0.25416974]\n",
      " [0.         0.27445143 0.        ]\n",
      " [0.         0.         0.25416974]\n",
      " [0.         0.         0.25416974]\n",
      " [0.28853988 0.         0.        ]\n",
      " [0.         0.27445143 0.        ]\n",
      " [0.         0.         0.25416974]\n",
      " [0.         0.27445143 0.        ]\n",
      " [0.         0.27445143 0.        ]\n",
      " [0.28853988 0.         0.        ]\n",
      " [0.28853988 0.         0.        ]\n",
      " [0.         0.27445143 0.        ]\n",
      " [0.1704163  0.16209543 0.30023349]\n",
      " [0.         0.         0.25416974]\n",
      " [0.         0.27445143 0.        ]\n",
      " [0.21944202 0.         0.19330264]\n",
      " [0.21944202 0.20872738 0.        ]\n",
      " [0.         0.27445143 0.        ]\n",
      " [0.         0.         0.25416974]]\n",
      "           First_Para  Second_Para  Third_Para\n",
      "about        0.000000     0.000000    0.254170\n",
      "actually     0.288540     0.000000    0.000000\n",
      "and          0.170416     0.162095    0.150117\n",
      "bogged       0.288540     0.000000    0.000000\n",
      "creating     0.000000     0.274451    0.000000\n",
      "designing    0.288540     0.000000    0.000000\n",
      "document     0.219442     0.000000    0.193303\n",
      "don          0.219442     0.000000    0.193303\n",
      "down         0.288540     0.000000    0.000000\n",
      "features     0.000000     0.000000    0.254170\n",
      "for          0.000000     0.274451    0.000000\n",
      "get          0.288540     0.000000    0.000000\n",
      "in           0.288540     0.000000    0.000000\n",
      "learn        0.000000     0.000000    0.254170\n",
      "like         0.000000     0.274451    0.000000\n",
      "look         0.000000     0.274451    0.000000\n",
      "microsoft    0.000000     0.000000    0.254170\n",
      "more         0.000000     0.000000    0.254170\n",
      "need         0.000000     0.274451    0.000000\n",
      "of           0.000000     0.000000    0.254170\n",
      "on           0.000000     0.000000    0.254170\n",
      "paragraph    0.000000     0.274451    0.000000\n",
      "practice     0.000000     0.000000    0.254170\n",
      "real         0.000000     0.000000    0.254170\n",
      "says         0.288540     0.000000    0.000000\n",
      "see          0.000000     0.274451    0.000000\n",
      "some         0.000000     0.000000    0.254170\n",
      "styles       0.000000     0.274451    0.000000\n",
      "template     0.000000     0.274451    0.000000\n",
      "text         0.288540     0.000000    0.000000\n",
      "the          0.288540     0.000000    0.000000\n",
      "they         0.000000     0.274451    0.000000\n",
      "to           0.170416     0.162095    0.300233\n",
      "trying       0.000000     0.000000    0.254170\n",
      "various      0.000000     0.274451    0.000000\n",
      "want         0.219442     0.000000    0.193303\n",
      "what         0.219442     0.208727    0.000000\n",
      "will         0.000000     0.274451    0.000000\n",
      "word         0.000000     0.000000    0.254170\n"
     ]
    }
   ],
   "source": [
    "# TF-IDF\n",
    "import pandas as pd\n",
    "from sklearn.feature_extraction.text import TfidfVectorizer\n",
    "\n",
    "corpus = [\n",
    "    \"I'm designing a document and don't want to get bogged down in what the text actually says\",\n",
    "    \"I'm creating a template for various paragraph styles and need to see what they will look like.\",\n",
    "    \"I'm trying to learn more about some features of Microsoft Word and don't want to practice on a real document\"\n",
    "]\n",
    "\n",
    "# Create TF-IDF vectorizer\n",
    "tfidf_vectorizer = TfidfVectorizer()\n",
    "tfidf_matrix = tfidf_vectorizer.fit_transform(corpus)\n",
    "\n",
    "# Print TF-IDF weights for each word in the corpus\n",
    "df = pd.DataFrame(tfidf_matrix.toarray().transpose(), columns=['First_Para', 'Second_Para', 'Third_Para'], index=tfidf_vectorizer.get_feature_names_out())\n",
    "print(df)"
   ]
  },
  {
   "cell_type": "code",
   "execution_count": 18,
   "metadata": {},
   "outputs": [],
   "source": [
    "# BM25\n",
    "from rank_bm25 import BM25Okapi\n",
    "\n",
    "corpus = [\n",
    "    \"I'm designing a document and don't want to get bogged down in what the text actually says\",\n",
    "    \"I'm creating a template for various paragraph styles and need to see what they will look like.\",\n",
    "    \"I'm trying to learn more about some features of Microsoft Word and don't want to practice on a real document\"\n",
    "]\n",
    "\n",
    "tokenized_corpus = [doc.split(\" \") for doc in corpus]\n",
    "\n",
    "bm25 = BM25Okapi(tokenized_corpus)"
   ]
  },
  {
   "cell_type": "code",
   "execution_count": 19,
   "metadata": {},
   "outputs": [
    {
     "name": "stdout",
     "output_type": "stream",
     "text": [
      "[17, 17, 20]\n",
      "[0.04396687 0.04396687 0.04082638]\n"
     ]
    }
   ],
   "source": [
    "query = \"and\"\n",
    "tokenized_query = query.split(\" \")\n",
    "doc_scores = bm25.get_scores(tokenized_query)\n",
    "print([len(sent) for sent in tokenized_corpus])\n",
    "print(doc_scores)"
   ]
  },
  {
   "cell_type": "markdown",
   "metadata": {},
   "source": [
    "### 2. Topic Modeling (LDA, LSA, and NMF)"
   ]
  },
  {
   "cell_type": "code",
   "execution_count": 20,
   "metadata": {},
   "outputs": [
    {
     "name": "stdout",
     "output_type": "stream",
     "text": [
      "           Document 1  Document 2  Document 3\n",
      "about               0           0           1\n",
      "actually            1           0           0\n",
      "and                 1           1           1\n",
      "bogged              1           0           0\n",
      "creating            0           1           0\n",
      "designing           1           0           0\n",
      "document            1           0           1\n",
      "don                 1           0           1\n",
      "down                1           0           0\n",
      "features            0           0           1\n",
      "for                 0           1           0\n",
      "get                 1           0           0\n",
      "in                  1           0           0\n",
      "learn               0           0           1\n",
      "like                0           1           0\n",
      "look                0           1           0\n",
      "microsoft           0           0           1\n",
      "more                0           0           1\n",
      "need                0           1           0\n",
      "of                  0           0           1\n",
      "on                  0           0           1\n",
      "paragraph           0           1           0\n",
      "practice            0           0           1\n",
      "real                0           0           1\n",
      "says                1           0           0\n",
      "see                 0           1           0\n",
      "some                0           0           1\n",
      "styles              0           1           0\n",
      "template            0           1           0\n",
      "text                1           0           0\n",
      "the                 1           0           0\n",
      "they                0           1           0\n",
      "to                  1           1           2\n",
      "trying              0           0           1\n",
      "various             0           1           0\n",
      "want                1           0           1\n",
      "what                1           1           0\n",
      "will                0           1           0\n",
      "word                0           0           1\n"
     ]
    }
   ],
   "source": [
    "# Vectorization\n",
    "from sklearn.feature_extraction.text import CountVectorizer\n",
    "\n",
    "corpus = [\n",
    "    \"I'm designing a document and don't want to get bogged down in what the text actually says\",\n",
    "    \"I'm creating a template for various paragraph styles and need to see what they will look like.\",\n",
    "    \"I'm trying to learn more about some features of Microsoft Word and don't want to practice on a real document\"\n",
    "]\n",
    "\n",
    "# Convert to document-term matrix\n",
    "vectorizer = CountVectorizer()\n",
    "dt_matrix = vectorizer.fit_transform(corpus)\n",
    "df = pd.DataFrame(dt_matrix.toarray().T, index=vectorizer.get_feature_names_out(), columns=['Document 1', 'Document 2', 'Document 3'])\n",
    "print(df)"
   ]
  },
  {
   "cell_type": "code",
   "execution_count": 21,
   "metadata": {},
   "outputs": [
    {
     "name": "stdout",
     "output_type": "stream",
     "text": [
      "Topic 1:\n",
      "['see', 'template', 'will', 'and', 'what']\n",
      "Topic 2:\n",
      "['document', 'don', 'want', 'and', 'to']\n"
     ]
    }
   ],
   "source": [
    "# LDA\n",
    "from sklearn.decomposition import LatentDirichletAllocation\n",
    "\n",
    "# Apply LDA with 2 topics\n",
    "lda = LatentDirichletAllocation(n_components=2, random_state=42)\n",
    "lda.fit(dt_matrix)\n",
    "\n",
    "# Top 5 terms for each topic\n",
    "for idx, topic in enumerate(lda.components_):\n",
    "    print(f\"Topic {idx + 1}:\")\n",
    "    print([vectorizer.get_feature_names_out()[i] for i in topic.argsort()[-5:]])"
   ]
  },
  {
   "cell_type": "code",
   "execution_count": 22,
   "metadata": {},
   "outputs": [
    {
     "data": {
      "image/png": "[encoded data removed]",
      "text/plain": [
       "<Figure size 640x480 with 3 Axes>"
      ]
     },
     "metadata": {},
     "output_type": "display_data"
    }
   ],
   "source": [
    "import matplotlib.pyplot as plt\n",
    "doc_topic_distributions = lda.transform(dt_matrix)\n",
    "\n",
    "# Plot topic distributions for each document\n",
    "for i, topic_dist in enumerate(doc_topic_distributions):\n",
    "    plt.subplot(1, len(doc_topic_distributions), i+1)\n",
    "    plt.bar(range(len(topic_dist)), topic_dist)\n",
    "    plt.xlabel(\"Topic\")\n",
    "    plt.ylabel(\"Probability\")\n",
    "    plt.title(f\"Document #{i + 1}\")\n",
    "plt.tight_layout()\n",
    "plt.show()"
   ]
  },
  {
   "cell_type": "code",
   "execution_count": 23,
   "metadata": {},
   "outputs": [
    {
     "ename": "ModuleNotFoundError",
     "evalue": "No module named 'pyLDAvis'",
     "output_type": "error",
     "traceback": [
      "\u001b[1;31m---------------------------------------------------------------------------\u001b[0m",
      "\u001b[1;31mModuleNotFoundError\u001b[0m                       Traceback (most recent call last)",
      "Cell \u001b[1;32mIn[23], line 1\u001b[0m\n\u001b[1;32m----> 1\u001b[0m \u001b[38;5;28;01mimport\u001b[39;00m\u001b[38;5;250m \u001b[39m\u001b[38;5;21;01mpyLDAvis\u001b[39;00m\n\u001b[0;32m      2\u001b[0m \u001b[38;5;28;01mimport\u001b[39;00m\u001b[38;5;250m \u001b[39m\u001b[38;5;21;01mpyLDAvis\u001b[39;00m\u001b[38;5;21;01m.\u001b[39;00m\u001b[38;5;21;01mlda_model\u001b[39;00m\n\u001b[0;32m      4\u001b[0m \u001b[38;5;66;03m# Interactive visualization\u001b[39;00m\n",
      "\u001b[1;31mModuleNotFoundError\u001b[0m: No module named 'pyLDAvis'"
     ]
    }
   ],
   "source": [
    "import pyLDAvis\n",
    "import pyLDAvis.lda_model\n",
    "\n",
    "# Interactive visualization\n",
    "pyLDAvis.enable_notebook()\n",
    "lda_vis = pyLDAvis.lda_model.prepare(lda, dt_matrix, vectorizer)\n",
    "pyLDAvis.display(lda_vis)"
   ]
  },
  {
   "cell_type": "code",
   "execution_count": null,
   "metadata": {},
   "outputs": [
    {
     "name": "stdout",
     "output_type": "stream",
     "text": [
      "Topic 1:\n",
      "['don', 'document', 'want', 'and', 'to']\n",
      "Topic 2:\n",
      "['need', 'creating', 'will', 'for', 'what']\n"
     ]
    }
   ],
   "source": [
    "# LSA\n",
    "from sklearn.decomposition import TruncatedSVD\n",
    "\n",
    "# Apply LSA\n",
    "lsa = TruncatedSVD(n_components=2, random_state=42)\n",
    "lsa_matrix = lsa.fit_transform(dt_matrix)\n",
    "\n",
    "# Top 5 terms for each topic\n",
    "terms = vectorizer.get_feature_names_out()\n",
    "for idx, topic in enumerate(lsa.components_):\n",
    "    print(f\"Topic {idx + 1}:\")\n",
    "    print([vectorizer.get_feature_names_out()[i] for i in topic.argsort()[-5:]])"
   ]
  },
  {
   "cell_type": "code",
   "execution_count": null,
   "metadata": {},
   "outputs": [
    {
     "name": "stdout",
     "output_type": "stream",
     "text": [
      "Topic 1:\n",
      "['and', 'don', 'document', 'want', 'to']\n",
      "Topic 2:\n",
      "['creating', 'template', 'for', 'and', 'what']\n"
     ]
    }
   ],
   "source": [
    "# NMF\n",
    "from sklearn.decomposition import NMF\n",
    "\n",
    "# Apply NMF\n",
    "nmf = NMF(n_components=2, random_state=42)\n",
    "nmf_matrix = nmf.fit_transform(dt_matrix)\n",
    "\n",
    "# Top 5 terms for each topic\n",
    "for idx, topic in enumerate(nmf.components_):\n",
    "    print(f\"Topic {idx + 1}:\")\n",
    "    print([vectorizer.get_feature_names_out()[i] for i in topic.argsort()[-5:]])"
   ]
  },
  {
   "cell_type": "markdown",
   "metadata": {},
   "source": [
    "### 3. Dimensionality Reduction (PCA and SVD)"
   ]
  },
  {
   "cell_type": "code",
   "execution_count": null,
   "metadata": {},
   "outputs": [
    {
     "name": "stdout",
     "output_type": "stream",
     "text": [
      "TF-IDF matrix shape: (3, 39), PCA result shape: (3, 2)\n",
      "PCA Result:\n",
      " [[-0.32601082  0.66409799]\n",
      " [ 0.79316674 -0.07437316]\n",
      " [-0.46715592 -0.58972484]]\n"
     ]
    }
   ],
   "source": [
    "# PCA\n",
    "from sklearn.decomposition import PCA\n",
    "import numpy as np\n",
    "\n",
    "# TF-IDF matrix from part 1, you can try with dt_martix from part 2 as well\n",
    "tfidf_data = tfidf_matrix.toarray()\n",
    "\n",
    "# Apply PCA\n",
    "pca = PCA(n_components=2)\n",
    "pca_result = pca.fit_transform(tfidf_data)\n",
    "print(f\"TF-IDF matrix shape: {tfidf_data.shape}, PCA result shape: {pca_result.shape}\")\n",
    "print(\"PCA Result:\\n\", pca_result)"
   ]
  },
  {
   "cell_type": "code",
   "execution_count": null,
   "metadata": {},
   "outputs": [
    {
     "name": "stdout",
     "output_type": "stream",
     "text": [
      "U Matrix:\n",
      " [[-0.65236149  0.21581789 -0.72653089]\n",
      " [-0.4262222  -0.89712207  0.11621798]\n",
      " [-0.62670498  0.38547973  0.67723427]]\n",
      "Singular Values:\n",
      " [1.1233886  0.97176315 0.89088408]\n",
      "VT Matrix:\n",
      " [[-0.14179371 -0.16755761 -0.24420812 ... -0.20662464 -0.10412896\n",
      "  -0.14179371]\n",
      " [ 0.10082424  0.06408153 -0.05224889 ... -0.14395939 -0.25337083\n",
      "   0.10082424]\n",
      " [ 0.19321533 -0.23530911 -0.00371552 ... -0.15172965  0.03580285\n",
      "   0.19321533]\n",
      " ...\n",
      " [-0.26561053  0.11244189  0.06528572 ...  0.88926219 -0.0573219\n",
      "   0.03409836]\n",
      " [-0.07497043  0.2548106  -0.001205   ... -0.07345862  0.92345757\n",
      "   0.01258648]\n",
      " [-0.01211171 -0.00646543 -0.2616498  ...  0.03198173  0.01338266\n",
      "   0.93542774]]\n"
     ]
    }
   ],
   "source": [
    "# SVD\n",
    "from scipy.linalg import svd\n",
    "\n",
    "matrix = tfidf_matrix.toarray()\n",
    "\n",
    "# Apply SVD\n",
    "U, S, VT = svd(matrix)\n",
    "print(\"U Matrix:\\n\", U)\n",
    "print(\"Singular Values:\\n\", S)\n",
    "print(\"VT Matrix:\\n\", VT)"
   ]
  },
  {
   "cell_type": "markdown",
   "metadata": {},
   "source": [
    "### Practice for the Week\n",
    "With the techniques you have learned in this course so far, you can have a taste of how to work with real-world data sets and apply the techniques you have learned to solve problems now. Recap data preprocessing techniques and information extraction and apply them to preprocess Corona_NLP_train dataset and analysis the data with the unsupervised learning algorithms."
   ]
  },
  {
   "cell_type": "code",
   "execution_count": null,
   "metadata": {},
   "outputs": [
    {
     "data": {
      "text/html": [
       "<div>\n",
       "<style scoped>\n",
       "    .dataframe tbody tr th:only-of-type {\n",
       "        vertical-align: middle;\n",
       "    }\n",
       "\n",
       "    .dataframe tbody tr th {\n",
       "        vertical-align: top;\n",
       "    }\n",
       "\n",
       "    .dataframe thead th {\n",
       "        text-align: right;\n",
       "    }\n",
       "</style>\n",
       "<table border=\"1\" class=\"dataframe\">\n",
       "  <thead>\n",
       "    <tr style=\"text-align: right;\">\n",
       "      <th></th>\n",
       "      <th>OriginalTweet</th>\n",
       "    </tr>\n",
       "  </thead>\n",
       "  <tbody>\n",
       "    <tr>\n",
       "      <th>3977</th>\n",
       "      <td>So I did NOT stockpile food or anything. But n...</td>\n",
       "    </tr>\n",
       "    <tr>\n",
       "      <th>30891</th>\n",
       "      <td>PROTECT YOURSELF AND OTHERS FROM COVID-19\\r\\r\\...</td>\n",
       "    </tr>\n",
       "    <tr>\n",
       "      <th>9132</th>\n",
       "      <td>India should not let this crash in oil prices ...</td>\n",
       "    </tr>\n",
       "    <tr>\n",
       "      <th>24476</th>\n",
       "      <td>Food for People seeing rise in demand amid COV...</td>\n",
       "    </tr>\n",
       "    <tr>\n",
       "      <th>6617</th>\n",
       "      <td>Why do people gotta be assholes and hoard pet ...</td>\n",
       "    </tr>\n",
       "  </tbody>\n",
       "</table>\n",
       "</div>"
      ],
      "text/plain": [
       "                                           OriginalTweet\n",
       "3977   So I did NOT stockpile food or anything. But n...\n",
       "30891  PROTECT YOURSELF AND OTHERS FROM COVID-19\\r\\r\\...\n",
       "9132   India should not let this crash in oil prices ...\n",
       "24476  Food for People seeing rise in demand amid COV...\n",
       "6617   Why do people gotta be assholes and hoard pet ..."
      ]
     },
     "execution_count": 12,
     "metadata": {},
     "output_type": "execute_result"
    }
   ],
   "source": [
    "# Import more necessary modules\n",
    "import pandas as pd\n",
    "import numpy as np\n",
    "import re \n",
    "import nltk\n",
    "# nltk.download('stopwords')\n",
    "from nltk.corpus import stopwords\n",
    "stop_words = stopwords.words('english')\n",
    "stop_words.extend(['https', 'tco'])\n",
    "\n",
    "# Download the csv file from EE6405 and place it in the same directory as the notebook\n",
    "# Load the csv file into a pandas dataframe\n",
    "tweets = pd.read_csv(r\"Corona_NLP_train.csv\", encoding='latin-1')\n",
    "\n",
    "tweets = tweets.drop(columns=['ï»¿UserName', 'ScreenName', 'Location','TweetAt','Sentiment'], axis=1).sample(100)\n",
    "\n",
    "# Have an idea of the data\n",
    "tweets.head()"
   ]
  },
  {
   "cell_type": "code",
   "execution_count": null,
   "metadata": {},
   "outputs": [],
   "source": [
    "# Data preprocessing (Eg., Remove punctuation, stop words, and stemming)\n",
    "\n",
    "# Vectorize the text data (TF-IDF, Count Vectorizer, etc.)\n",
    "\n",
    "# Split into train and validation sets. Remember to set the random seed for reproducibility\n",
    "\n",
    "# Apply dimensionality reduction (Optional)\n",
    "\n",
    "# Apply different topic modeling techniques on the train set\n",
    "\n",
    "# Evaluate the performance of the model on the testing set"
   ]
  },
  {
   "cell_type": "markdown",
   "metadata": {},
   "source": [
    "Extension (Optional, not tested in the quiz)"
   ]
  },
  {
   "cell_type": "code",
   "execution_count": null,
   "metadata": {},
   "outputs": [],
   "source": [
    "corpus = [\n",
    "    \"I'm designing a document and don't want to get bogged down in what the text actually says\",\n",
    "    \"I'm creating a template for various paragraph styles and need to see what they will look like.\",\n",
    "    \"I'm trying to learn more about some features of Microsoft Word and don't want to practice on a real document\"\n",
    "]"
   ]
  },
  {
   "cell_type": "code",
   "execution_count": null,
   "metadata": {},
   "outputs": [
    {
     "name": "stdout",
     "output_type": "stream",
     "text": [
      "Topic 1:\n",
      "['and', 'want', 'don', 'document', 'to']\n",
      "Topic 2:\n",
      "['template', 'for', 'to', 'and', 'what']\n"
     ]
    }
   ],
   "source": [
    "## LDA\n",
    "import numpy as np\n",
    "from sklearn.feature_extraction.text import CountVectorizer\n",
    "from sklearn.decomposition import LatentDirichletAllocation\n",
    "from gensim.models import CoherenceModel\n",
    "from gensim.corpora.dictionary import Dictionary\n",
    "from gensim.matutils import Sparse2Corpus\n",
    "\n",
    "vectorizer = CountVectorizer()\n",
    "X = vectorizer.fit_transform(corpus)\n",
    "lda_model = LatentDirichletAllocation(n_components=2, random_state=0)\n",
    "lda_model.fit(X)\n",
    "\n",
    "# Top 5 terms for each topic\n",
    "for idx, topic in enumerate(lda_model.components_):\n",
    "    print(f\"Topic {idx + 1}:\")\n",
    "    print([vectorizer.get_feature_names_out()[i] for i in topic.argsort()[-5:]])"
   ]
  },
  {
   "cell_type": "code",
   "execution_count": null,
   "metadata": {},
   "outputs": [
    {
     "name": "stdout",
     "output_type": "stream",
     "text": [
      "Perplexity: 63.16331266799262\n",
      "Coherence Score: 0.305394545830141\n"
     ]
    }
   ],
   "source": [
    "# perplexity\n",
    "perplexity = lda_model.perplexity(X)\n",
    "print(f\"Perplexity: {perplexity}\")\n",
    "\n",
    "# coherence, we use gensim for better capabilities\n",
    "gensim_corpus = Sparse2Corpus(X, documents_columns=False)\n",
    "id2word = Dictionary([text.split() for text in corpus])\n",
    "\n",
    "# coherence Model\n",
    "topics = lda_model.components_\n",
    "words = [vectorizer.get_feature_names_out()[i] for i in np.argsort(topics[0])[::-1]]\n",
    "coherence_model = CoherenceModel(topics=[words], texts=[text.split() for text in corpus], dictionary=id2word)\n",
    "coherence_score = coherence_model.get_coherence()\n",
    "\n",
    "print(f\"Coherence Score: {coherence_score}\")"
   ]
  },
  {
   "cell_type": "code",
   "execution_count": null,
   "metadata": {},
   "outputs": [
    {
     "data": {
      "text/plain": [
       "PLSA:\n",
       "====\n",
       "Number of topics:     2\n",
       "Number of documents:  3\n",
       "Number of words:      9\n",
       "Number of iterations: 0"
      ]
     },
     "execution_count": 17,
     "metadata": {},
     "output_type": "execute_result"
    }
   ],
   "source": [
    "## pLSA\n",
    "from plsa import Corpus, Pipeline\n",
    "from plsa.pipeline import DEFAULT_PIPELINE\n",
    "from plsa.algorithms import PLSA\n",
    "\n",
    "pipeline = Pipeline(*DEFAULT_PIPELINE)\n",
    "plsa_corpus = Corpus(corpus=corpus, pipeline=pipeline)\n",
    "plsa = PLSA(corpus=plsa_corpus, n_topics=2, tf_idf=True)\n",
    "plsa"
   ]
  },
  {
   "cell_type": "code",
   "execution_count": null,
   "metadata": {},
   "outputs": [
    {
     "data": {
      "text/plain": [
       "PLSA:\n",
       "====\n",
       "Number of topics:     2\n",
       "Number of documents:  3\n",
       "Number of words:      9\n",
       "Number of iterations: 10"
      ]
     },
     "execution_count": 18,
     "metadata": {},
     "output_type": "execute_result"
    }
   ],
   "source": [
    "result = plsa.fit()\n",
    "plsa"
   ]
  },
  {
   "cell_type": "code",
   "execution_count": null,
   "metadata": {},
   "outputs": [
    {
     "data": {
      "text/plain": [
       "array([0.65667753, 0.34332247])"
      ]
     },
     "execution_count": 19,
     "metadata": {},
     "output_type": "execute_result"
    }
   ],
   "source": [
    "result.topic"
   ]
  },
  {
   "cell_type": "code",
   "execution_count": null,
   "metadata": {},
   "outputs": [
    {
     "name": "stdout",
     "output_type": "stream",
     "text": [
      "Topic 1:\n",
      "(('text', 0.17427248448252766), ('feature', 0.17427248448252766), ('word', 0.17427248448252766))\n",
      "Topic 2:\n",
      "(('template', 0.3333333333333333), ('paragraph', 0.3333333333333333), ('style', 0.3333333333333333))\n"
     ]
    }
   ],
   "source": [
    "# top-3 words in each topic.\n",
    "print(\"Topic 1:\")\n",
    "print(result.word_given_topic[0][:3])\n",
    "print(\"Topic 2:\")\n",
    "print(result.word_given_topic[1][:3])"
   ]
  },
  {
   "cell_type": "code",
   "execution_count": null,
   "metadata": {},
   "outputs": [
    {
     "name": "stdout",
     "output_type": "stream",
     "text": [
      "Relative topic importance in new document: [1. 0.]\n",
      "Number of previously unseen words in new document: 3\n",
      "Previously unseen words in new document: ('code', 'extension', 'quiz')\n"
     ]
    }
   ],
   "source": [
    "# predict the topic mixture of an entirely new document\n",
    "new_doc = \"Hello! The code and text in the extension is not tested in the quiz.\"\n",
    "\n",
    "topic_components, number_of_new_words, new_words = result.predict(new_doc)\n",
    "\n",
    "print('Relative topic importance in new document:', topic_components)\n",
    "print('Number of previously unseen words in new document:', number_of_new_words)\n",
    "print('Previously unseen words in new document:', new_words)"
   ]
  }
 ],
 "metadata": {
  "kernelspec": {
   "display_name": "base",
   "language": "python",
   "name": "python3"
  },
  "language_info": {
   "codemirror_mode": {
    "name": "ipython",
    "version": 3
   },
   "file_extension": ".py",
   "mimetype": "text/x-python",
   "name": "python",
   "nbconvert_exporter": "python",
   "pygments_lexer": "ipython3",
   "version": "3.13.5"
  }
 },
 "nbformat": 4,
 "nbformat_minor": 2
}
