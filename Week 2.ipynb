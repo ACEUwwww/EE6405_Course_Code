{
 "cells": [
  {
   "cell_type": "markdown",
   "metadata": {},
   "source": [
    "### 1. Named Entity Recognition (NER)\n",
    "Identifies entities in text, such as names, dates, locations, and organizations."
   ]
  },
  {
   "cell_type": "code",
   "execution_count": 1,
   "metadata": {},
   "outputs": [
    {
     "name": "stdout",
     "output_type": "stream",
     "text": [
      "S. Supraja[PERSON]\n",
      "Simon Liu[PERSON]\n",
      "NTU[ORG]\n",
      "Singapore[GPE]\n"
     ]
    }
   ],
   "source": [
    "# different spacy and en_core_web_sm versions may lead to different results\n",
    "# this notebook is made with spaCy version 3.8.3 and en_core_web_sm version 3.8.0\n",
    "# find your own version in the terminal: python -m spacy info\n",
    "import spacy \n",
    "from spacy import displacy\n",
    "\n",
    "NER = spacy.load(\"en_core_web_sm\")  # Load SpaCy's small English model\n",
    "sentence = \"This course is lectured by Dr. S. Supraja, and Simon Liu at NTU, Singapore.\"\n",
    "\n",
    "doc = NER(sentence)\n",
    "for entity in doc.ents:\n",
    "    print(f\"{entity.text}[{entity.label_}]\")"
   ]
  },
  {
   "cell_type": "code",
   "execution_count": 2,
   "metadata": {},
   "outputs": [
    {
     "data": {
      "text/plain": [
       "'Companies, agencies, institutions, etc.'"
      ]
     },
     "execution_count": 2,
     "metadata": {},
     "output_type": "execute_result"
    }
   ],
   "source": [
    "# use the following command to explore the definition of the given POS tag, dependency label or entity type in spacy\n",
    "spacy.explain('ORG')"
   ]
  },
  {
   "cell_type": "code",
   "execution_count": 3,
   "metadata": {},
   "outputs": [
    {
     "data": {
      "text/html": [
       "<span class=\"tex2jax_ignore\"><div class=\"entities\" style=\"line-height: 2.5; direction: ltr\">This course is lectured by Dr. \n",
       "<mark class=\"entity\" style=\"background: #aa9cfc; padding: 0.45em 0.6em; margin: 0 0.25em; line-height: 1; border-radius: 0.35em;\">\n",
       "    S. Supraja\n",
       "    <span style=\"font-size: 0.8em; font-weight: bold; line-height: 1; border-radius: 0.35em; vertical-align: middle; margin-left: 0.5rem\">PERSON</span>\n",
       "</mark>\n",
       ", and \n",
       "<mark class=\"entity\" style=\"background: #aa9cfc; padding: 0.45em 0.6em; margin: 0 0.25em; line-height: 1; border-radius: 0.35em;\">\n",
       "    Simon Liu\n",
       "    <span style=\"font-size: 0.8em; font-weight: bold; line-height: 1; border-radius: 0.35em; vertical-align: middle; margin-left: 0.5rem\">PERSON</span>\n",
       "</mark>\n",
       " at \n",
       "<mark class=\"entity\" style=\"background: #7aecec; padding: 0.45em 0.6em; margin: 0 0.25em; line-height: 1; border-radius: 0.35em;\">\n",
       "    NTU\n",
       "    <span style=\"font-size: 0.8em; font-weight: bold; line-height: 1; border-radius: 0.35em; vertical-align: middle; margin-left: 0.5rem\">ORG</span>\n",
       "</mark>\n",
       ", \n",
       "<mark class=\"entity\" style=\"background: #feca74; padding: 0.45em 0.6em; margin: 0 0.25em; line-height: 1; border-radius: 0.35em;\">\n",
       "    Singapore\n",
       "    <span style=\"font-size: 0.8em; font-weight: bold; line-height: 1; border-radius: 0.35em; vertical-align: middle; margin-left: 0.5rem\">GPE</span>\n",
       "</mark>\n",
       ".</div></span>"
      ],
      "text/plain": [
       "<IPython.core.display.HTML object>"
      ]
     },
     "metadata": {},
     "output_type": "display_data"
    }
   ],
   "source": [
    "displacy.render(doc, style='ent', jupyter=True)"
   ]
  },
  {
   "cell_type": "markdown",
   "metadata": {},
   "source": [
    "### 2. Part-of-Speech (POS) Tagging\n",
    "Assigning grammatical categories (like noun, verb, adjective, etc.) to words in a sentence."
   ]
  },
  {
   "cell_type": "code",
   "execution_count": 4,
   "metadata": {},
   "outputs": [
    {
     "name": "stdout",
     "output_type": "stream",
     "text": [
      "This[DET]\n",
      "course[NOUN]\n",
      "is[AUX]\n",
      "lectured[VERB]\n",
      "by[ADP]\n",
      "Dr.[PROPN]\n",
      "S.[PROPN]\n",
      "Supraja[PROPN]\n",
      ",[PUNCT]\n",
      "and[CCONJ]\n",
      "Simon[PROPN]\n",
      "Liu[PROPN]\n",
      "at[ADP]\n",
      "NTU[PROPN]\n",
      ",[PUNCT]\n",
      "Singapore[PROPN]\n",
      ".[PUNCT]\n"
     ]
    }
   ],
   "source": [
    "# Process the text for coarse-grained POS tagging\n",
    "for token in doc:\n",
    "    print(f\"{token.text}[{token.pos_}]\")"
   ]
  },
  {
   "cell_type": "code",
   "execution_count": 5,
   "metadata": {},
   "outputs": [
    {
     "name": "stdout",
     "output_type": "stream",
     "text": [
      "This[DT]\n",
      "course[NN]\n",
      "is[VBZ]\n",
      "lectured[VBN]\n",
      "by[IN]\n",
      "Dr.[NNP]\n",
      "S.[NNP]\n",
      "Supraja[NNP]\n",
      ",[,]\n",
      "and[CC]\n",
      "Simon[NNP]\n",
      "Liu[NNP]\n",
      "at[IN]\n",
      "NTU[NNP]\n",
      ",[,]\n",
      "Singapore[NNP]\n",
      ".[.]\n"
     ]
    }
   ],
   "source": [
    "# Process the text for fine-grained POS tagging\n",
    "for token in doc:\n",
    "    print(f\"{token.text}[{token.tag_}]\")"
   ]
  },
  {
   "cell_type": "code",
   "execution_count": 6,
   "metadata": {},
   "outputs": [
    {
     "name": "stdout",
     "output_type": "stream",
     "text": [
      "                                     lectured[VBN]                                                                                  \n",
      "    _______________________________________|_________________________________________________________                                \n",
      "   |       |         |         |           |                       |                              Liu[NNP]                          \n",
      "   |       |         |         |           |                       |                       __________|________                       \n",
      "   |       |         |         |           |                     by[IN]                   |                 at[IN]                  \n",
      "   |       |         |         |           |                       |                      |                   |                      \n",
      "   |       |         |         |       course[NN]             Supraja[NNP]                |                NTU[NNP]                 \n",
      "   |       |         |         |           |            ___________|___________           |           ________|____________          \n",
      "is[AUX] ,[PUNCT] and[CCONJ] .[PUNCT]   This[DET]   Dr.[PROPN]              S.[PROPN] Simon[PROPN] ,[PUNCT]          Singapore[PROPN]\n",
      "\n",
      "                          lectured[VBN]                                                                          \n",
      "    ____________________________|___________________________________________________                              \n",
      "   |     |      |     |         |                     |                          Liu[NNP]                        \n",
      "   |     |      |     |         |                     |                    _________|________                     \n",
      "   |     |      |     |         |                   by[IN]                |                at[IN]                \n",
      "   |     |      |     |         |                     |                   |                  |                    \n",
      "   |     |      |     |     course[NN]           Supraja[NNP]             |               NTU[NNP]               \n",
      "   |     |      |     |         |           __________|__________         |          ________|___________         \n",
      "is[VBZ] ,[,] and[CC] .[.]    This[DT]   Dr.[NNP]              S.[NNP] Simon[NNP]   ,[,]            Singapore[NNP]\n",
      "\n"
     ]
    }
   ],
   "source": [
    "from nltk import Tree\n",
    "\n",
    "def tok_format(tok, coarse=False):\n",
    "    if coarse:\n",
    "        return \"[\".join([tok.orth_, tok.pos_]) + \"]\"\n",
    "    return \"[\".join([tok.orth_, tok.tag_]) + \"]\"\n",
    "\n",
    "def to_nltk_tree(node, coarse=False):\n",
    "    if node.n_lefts + node.n_rights > 0:\n",
    "        return Tree(tok_format(node), [to_nltk_tree(child, coarse=coarse) for child in node.children])\n",
    "    else:\n",
    "        return tok_format(node, coarse=coarse)\n",
    "\n",
    "[to_nltk_tree(sent.root, coarse=True).pretty_print() for sent in doc.sents];\n",
    "[to_nltk_tree(sent.root).pretty_print() for sent in doc.sents];"
   ]
  },
  {
   "cell_type": "markdown",
   "metadata": {},
   "source": [
    "### 3. Dependency Parsing\n",
    "Analyzing the grammatical structure of a sentence to establish relationships between words."
   ]
  },
  {
   "cell_type": "code",
   "execution_count": 7,
   "metadata": {},
   "outputs": [
    {
     "name": "stdout",
     "output_type": "stream",
     "text": [
      "Token           | Relation   | Head            | Children            \n",
      "----------------------------------------------------------------------\n",
      "This            | det        | course          | []                  \n",
      "course          | nsubjpass  | lectured        | [This]              \n",
      "is              | auxpass    | lectured        | []                  \n",
      "lectured        | ROOT       | lectured        | [course, is, by, ,, and, Liu, .]\n",
      "by              | agent      | lectured        | [Supraja]           \n",
      "Dr.             | compound   | Supraja         | []                  \n",
      "S.              | compound   | Supraja         | []                  \n",
      "Supraja         | pobj       | by              | [Dr., S.]           \n",
      ",               | punct      | lectured        | []                  \n",
      "and             | cc         | lectured        | []                  \n",
      "Simon           | compound   | Liu             | []                  \n",
      "Liu             | conj       | lectured        | [Simon, at]         \n",
      "at              | prep       | Liu             | [NTU]               \n",
      "NTU             | pobj       | at              | [,, Singapore]      \n",
      ",               | punct      | NTU             | []                  \n",
      "Singapore       | npadvmod   | NTU             | []                  \n",
      ".               | punct      | lectured        | []                  \n"
     ]
    }
   ],
   "source": [
    "# Process the text for dependency parsing\n",
    "print('{:<15} | {:<10} | {:<15} | {:<20}'.format('Token','Relation','Head','Children'))\n",
    "print('-'*70)\n",
    "for token in doc:\n",
    "    #Print the token, dependency nature, head and all dependents of the token\n",
    "    print(\"{:<15} | {:<10} | {:<15} | {:<20}\"\n",
    "          .format(str(token.text), str(token.dep_), str(token.head.text), str([child for child in token.children])))"
   ]
  },
  {
   "cell_type": "code",
   "execution_count": 8,
   "metadata": {},
   "outputs": [
    {
     "data": {
      "text/html": [
       "<span class=\"tex2jax_ignore\"><svg xmlns=\"http://www.w3.org/2000/svg\" xmlns:xlink=\"http://www.w3.org/1999/xlink\" xml:lang=\"en\" id=\"7329d9608085472ba3ec79aeb21c921f-0\" class=\"displacy\" width=\"1730\" height=\"437.0\" direction=\"ltr\" style=\"max-width: none; height: 437.0px; color: #000000; background: #ffffff; font-family: Arial; direction: ltr\">\n",
       "<text class=\"displacy-token\" fill=\"currentColor\" text-anchor=\"middle\" y=\"347.0\">\n",
       "    <tspan class=\"displacy-word\" fill=\"currentColor\" x=\"50\">This</tspan>\n",
       "    <tspan class=\"displacy-tag\" dy=\"2em\" fill=\"currentColor\" x=\"50\">DET</tspan>\n",
       "</text>\n",
       "\n",
       "<text class=\"displacy-token\" fill=\"currentColor\" text-anchor=\"middle\" y=\"347.0\">\n",
       "    <tspan class=\"displacy-word\" fill=\"currentColor\" x=\"170\">course</tspan>\n",
       "    <tspan class=\"displacy-tag\" dy=\"2em\" fill=\"currentColor\" x=\"170\">NOUN</tspan>\n",
       "</text>\n",
       "\n",
       "<text class=\"displacy-token\" fill=\"currentColor\" text-anchor=\"middle\" y=\"347.0\">\n",
       "    <tspan class=\"displacy-word\" fill=\"currentColor\" x=\"290\">is</tspan>\n",
       "    <tspan class=\"displacy-tag\" dy=\"2em\" fill=\"currentColor\" x=\"290\">AUX</tspan>\n",
       "</text>\n",
       "\n",
       "<text class=\"displacy-token\" fill=\"currentColor\" text-anchor=\"middle\" y=\"347.0\">\n",
       "    <tspan class=\"displacy-word\" fill=\"currentColor\" x=\"410\">lectured</tspan>\n",
       "    <tspan class=\"displacy-tag\" dy=\"2em\" fill=\"currentColor\" x=\"410\">VERB</tspan>\n",
       "</text>\n",
       "\n",
       "<text class=\"displacy-token\" fill=\"currentColor\" text-anchor=\"middle\" y=\"347.0\">\n",
       "    <tspan class=\"displacy-word\" fill=\"currentColor\" x=\"530\">by</tspan>\n",
       "    <tspan class=\"displacy-tag\" dy=\"2em\" fill=\"currentColor\" x=\"530\">ADP</tspan>\n",
       "</text>\n",
       "\n",
       "<text class=\"displacy-token\" fill=\"currentColor\" text-anchor=\"middle\" y=\"347.0\">\n",
       "    <tspan class=\"displacy-word\" fill=\"currentColor\" x=\"650\">Dr.</tspan>\n",
       "    <tspan class=\"displacy-tag\" dy=\"2em\" fill=\"currentColor\" x=\"650\">PROPN</tspan>\n",
       "</text>\n",
       "\n",
       "<text class=\"displacy-token\" fill=\"currentColor\" text-anchor=\"middle\" y=\"347.0\">\n",
       "    <tspan class=\"displacy-word\" fill=\"currentColor\" x=\"770\">S.</tspan>\n",
       "    <tspan class=\"displacy-tag\" dy=\"2em\" fill=\"currentColor\" x=\"770\">PROPN</tspan>\n",
       "</text>\n",
       "\n",
       "<text class=\"displacy-token\" fill=\"currentColor\" text-anchor=\"middle\" y=\"347.0\">\n",
       "    <tspan class=\"displacy-word\" fill=\"currentColor\" x=\"890\">Supraja,</tspan>\n",
       "    <tspan class=\"displacy-tag\" dy=\"2em\" fill=\"currentColor\" x=\"890\">PROPN</tspan>\n",
       "</text>\n",
       "\n",
       "<text class=\"displacy-token\" fill=\"currentColor\" text-anchor=\"middle\" y=\"347.0\">\n",
       "    <tspan class=\"displacy-word\" fill=\"currentColor\" x=\"1010\">and</tspan>\n",
       "    <tspan class=\"displacy-tag\" dy=\"2em\" fill=\"currentColor\" x=\"1010\">CCONJ</tspan>\n",
       "</text>\n",
       "\n",
       "<text class=\"displacy-token\" fill=\"currentColor\" text-anchor=\"middle\" y=\"347.0\">\n",
       "    <tspan class=\"displacy-word\" fill=\"currentColor\" x=\"1130\">Simon</tspan>\n",
       "    <tspan class=\"displacy-tag\" dy=\"2em\" fill=\"currentColor\" x=\"1130\">PROPN</tspan>\n",
       "</text>\n",
       "\n",
       "<text class=\"displacy-token\" fill=\"currentColor\" text-anchor=\"middle\" y=\"347.0\">\n",
       "    <tspan class=\"displacy-word\" fill=\"currentColor\" x=\"1250\">Liu</tspan>\n",
       "    <tspan class=\"displacy-tag\" dy=\"2em\" fill=\"currentColor\" x=\"1250\">PROPN</tspan>\n",
       "</text>\n",
       "\n",
       "<text class=\"displacy-token\" fill=\"currentColor\" text-anchor=\"middle\" y=\"347.0\">\n",
       "    <tspan class=\"displacy-word\" fill=\"currentColor\" x=\"1370\">at</tspan>\n",
       "    <tspan class=\"displacy-tag\" dy=\"2em\" fill=\"currentColor\" x=\"1370\">ADP</tspan>\n",
       "</text>\n",
       "\n",
       "<text class=\"displacy-token\" fill=\"currentColor\" text-anchor=\"middle\" y=\"347.0\">\n",
       "    <tspan class=\"displacy-word\" fill=\"currentColor\" x=\"1490\">NTU,</tspan>\n",
       "    <tspan class=\"displacy-tag\" dy=\"2em\" fill=\"currentColor\" x=\"1490\">PROPN</tspan>\n",
       "</text>\n",
       "\n",
       "<text class=\"displacy-token\" fill=\"currentColor\" text-anchor=\"middle\" y=\"347.0\">\n",
       "    <tspan class=\"displacy-word\" fill=\"currentColor\" x=\"1610\">Singapore.</tspan>\n",
       "    <tspan class=\"displacy-tag\" dy=\"2em\" fill=\"currentColor\" x=\"1610\">PROPN</tspan>\n",
       "</text>\n",
       "\n",
       "<g class=\"displacy-arrow\">\n",
       "    <path class=\"displacy-arc\" id=\"arrow-7329d9608085472ba3ec79aeb21c921f-0-0\" stroke-width=\"2px\" d=\"M70,302.0 C70,242.0 150.0,242.0 150.0,302.0\" fill=\"none\" stroke=\"currentColor\"/>\n",
       "    <text dy=\"1.25em\" style=\"font-size: 0.8em; letter-spacing: 1px\">\n",
       "        <textPath xlink:href=\"#arrow-7329d9608085472ba3ec79aeb21c921f-0-0\" class=\"displacy-label\" startOffset=\"50%\" side=\"left\" fill=\"currentColor\" text-anchor=\"middle\">det</textPath>\n",
       "    </text>\n",
       "    <path class=\"displacy-arrowhead\" d=\"M70,304.0 L62,292.0 78,292.0\" fill=\"currentColor\"/>\n",
       "</g>\n",
       "\n",
       "<g class=\"displacy-arrow\">\n",
       "    <path class=\"displacy-arc\" id=\"arrow-7329d9608085472ba3ec79aeb21c921f-0-1\" stroke-width=\"2px\" d=\"M190,302.0 C190,182.0 395.0,182.0 395.0,302.0\" fill=\"none\" stroke=\"currentColor\"/>\n",
       "    <text dy=\"1.25em\" style=\"font-size: 0.8em; letter-spacing: 1px\">\n",
       "        <textPath xlink:href=\"#arrow-7329d9608085472ba3ec79aeb21c921f-0-1\" class=\"displacy-label\" startOffset=\"50%\" side=\"left\" fill=\"currentColor\" text-anchor=\"middle\">nsubjpass</textPath>\n",
       "    </text>\n",
       "    <path class=\"displacy-arrowhead\" d=\"M190,304.0 L182,292.0 198,292.0\" fill=\"currentColor\"/>\n",
       "</g>\n",
       "\n",
       "<g class=\"displacy-arrow\">\n",
       "    <path class=\"displacy-arc\" id=\"arrow-7329d9608085472ba3ec79aeb21c921f-0-2\" stroke-width=\"2px\" d=\"M310,302.0 C310,242.0 390.0,242.0 390.0,302.0\" fill=\"none\" stroke=\"currentColor\"/>\n",
       "    <text dy=\"1.25em\" style=\"font-size: 0.8em; letter-spacing: 1px\">\n",
       "        <textPath xlink:href=\"#arrow-7329d9608085472ba3ec79aeb21c921f-0-2\" class=\"displacy-label\" startOffset=\"50%\" side=\"left\" fill=\"currentColor\" text-anchor=\"middle\">auxpass</textPath>\n",
       "    </text>\n",
       "    <path class=\"displacy-arrowhead\" d=\"M310,304.0 L302,292.0 318,292.0\" fill=\"currentColor\"/>\n",
       "</g>\n",
       "\n",
       "<g class=\"displacy-arrow\">\n",
       "    <path class=\"displacy-arc\" id=\"arrow-7329d9608085472ba3ec79aeb21c921f-0-3\" stroke-width=\"2px\" d=\"M430,302.0 C430,242.0 510.0,242.0 510.0,302.0\" fill=\"none\" stroke=\"currentColor\"/>\n",
       "    <text dy=\"1.25em\" style=\"font-size: 0.8em; letter-spacing: 1px\">\n",
       "        <textPath xlink:href=\"#arrow-7329d9608085472ba3ec79aeb21c921f-0-3\" class=\"displacy-label\" startOffset=\"50%\" side=\"left\" fill=\"currentColor\" text-anchor=\"middle\">agent</textPath>\n",
       "    </text>\n",
       "    <path class=\"displacy-arrowhead\" d=\"M510.0,304.0 L518.0,292.0 502.0,292.0\" fill=\"currentColor\"/>\n",
       "</g>\n",
       "\n",
       "<g class=\"displacy-arrow\">\n",
       "    <path class=\"displacy-arc\" id=\"arrow-7329d9608085472ba3ec79aeb21c921f-0-4\" stroke-width=\"2px\" d=\"M670,302.0 C670,182.0 875.0,182.0 875.0,302.0\" fill=\"none\" stroke=\"currentColor\"/>\n",
       "    <text dy=\"1.25em\" style=\"font-size: 0.8em; letter-spacing: 1px\">\n",
       "        <textPath xlink:href=\"#arrow-7329d9608085472ba3ec79aeb21c921f-0-4\" class=\"displacy-label\" startOffset=\"50%\" side=\"left\" fill=\"currentColor\" text-anchor=\"middle\">compound</textPath>\n",
       "    </text>\n",
       "    <path class=\"displacy-arrowhead\" d=\"M670,304.0 L662,292.0 678,292.0\" fill=\"currentColor\"/>\n",
       "</g>\n",
       "\n",
       "<g class=\"displacy-arrow\">\n",
       "    <path class=\"displacy-arc\" id=\"arrow-7329d9608085472ba3ec79aeb21c921f-0-5\" stroke-width=\"2px\" d=\"M790,302.0 C790,242.0 870.0,242.0 870.0,302.0\" fill=\"none\" stroke=\"currentColor\"/>\n",
       "    <text dy=\"1.25em\" style=\"font-size: 0.8em; letter-spacing: 1px\">\n",
       "        <textPath xlink:href=\"#arrow-7329d9608085472ba3ec79aeb21c921f-0-5\" class=\"displacy-label\" startOffset=\"50%\" side=\"left\" fill=\"currentColor\" text-anchor=\"middle\">compound</textPath>\n",
       "    </text>\n",
       "    <path class=\"displacy-arrowhead\" d=\"M790,304.0 L782,292.0 798,292.0\" fill=\"currentColor\"/>\n",
       "</g>\n",
       "\n",
       "<g class=\"displacy-arrow\">\n",
       "    <path class=\"displacy-arc\" id=\"arrow-7329d9608085472ba3ec79aeb21c921f-0-6\" stroke-width=\"2px\" d=\"M550,302.0 C550,122.0 880.0,122.0 880.0,302.0\" fill=\"none\" stroke=\"currentColor\"/>\n",
       "    <text dy=\"1.25em\" style=\"font-size: 0.8em; letter-spacing: 1px\">\n",
       "        <textPath xlink:href=\"#arrow-7329d9608085472ba3ec79aeb21c921f-0-6\" class=\"displacy-label\" startOffset=\"50%\" side=\"left\" fill=\"currentColor\" text-anchor=\"middle\">pobj</textPath>\n",
       "    </text>\n",
       "    <path class=\"displacy-arrowhead\" d=\"M880.0,304.0 L888.0,292.0 872.0,292.0\" fill=\"currentColor\"/>\n",
       "</g>\n",
       "\n",
       "<g class=\"displacy-arrow\">\n",
       "    <path class=\"displacy-arc\" id=\"arrow-7329d9608085472ba3ec79aeb21c921f-0-7\" stroke-width=\"2px\" d=\"M430,302.0 C430,62.0 1005.0,62.0 1005.0,302.0\" fill=\"none\" stroke=\"currentColor\"/>\n",
       "    <text dy=\"1.25em\" style=\"font-size: 0.8em; letter-spacing: 1px\">\n",
       "        <textPath xlink:href=\"#arrow-7329d9608085472ba3ec79aeb21c921f-0-7\" class=\"displacy-label\" startOffset=\"50%\" side=\"left\" fill=\"currentColor\" text-anchor=\"middle\">cc</textPath>\n",
       "    </text>\n",
       "    <path class=\"displacy-arrowhead\" d=\"M1005.0,304.0 L1013.0,292.0 997.0,292.0\" fill=\"currentColor\"/>\n",
       "</g>\n",
       "\n",
       "<g class=\"displacy-arrow\">\n",
       "    <path class=\"displacy-arc\" id=\"arrow-7329d9608085472ba3ec79aeb21c921f-0-8\" stroke-width=\"2px\" d=\"M1150,302.0 C1150,242.0 1230.0,242.0 1230.0,302.0\" fill=\"none\" stroke=\"currentColor\"/>\n",
       "    <text dy=\"1.25em\" style=\"font-size: 0.8em; letter-spacing: 1px\">\n",
       "        <textPath xlink:href=\"#arrow-7329d9608085472ba3ec79aeb21c921f-0-8\" class=\"displacy-label\" startOffset=\"50%\" side=\"left\" fill=\"currentColor\" text-anchor=\"middle\">compound</textPath>\n",
       "    </text>\n",
       "    <path class=\"displacy-arrowhead\" d=\"M1150,304.0 L1142,292.0 1158,292.0\" fill=\"currentColor\"/>\n",
       "</g>\n",
       "\n",
       "<g class=\"displacy-arrow\">\n",
       "    <path class=\"displacy-arc\" id=\"arrow-7329d9608085472ba3ec79aeb21c921f-0-9\" stroke-width=\"2px\" d=\"M430,302.0 C430,2.0 1250.0,2.0 1250.0,302.0\" fill=\"none\" stroke=\"currentColor\"/>\n",
       "    <text dy=\"1.25em\" style=\"font-size: 0.8em; letter-spacing: 1px\">\n",
       "        <textPath xlink:href=\"#arrow-7329d9608085472ba3ec79aeb21c921f-0-9\" class=\"displacy-label\" startOffset=\"50%\" side=\"left\" fill=\"currentColor\" text-anchor=\"middle\">conj</textPath>\n",
       "    </text>\n",
       "    <path class=\"displacy-arrowhead\" d=\"M1250.0,304.0 L1258.0,292.0 1242.0,292.0\" fill=\"currentColor\"/>\n",
       "</g>\n",
       "\n",
       "<g class=\"displacy-arrow\">\n",
       "    <path class=\"displacy-arc\" id=\"arrow-7329d9608085472ba3ec79aeb21c921f-0-10\" stroke-width=\"2px\" d=\"M1270,302.0 C1270,242.0 1350.0,242.0 1350.0,302.0\" fill=\"none\" stroke=\"currentColor\"/>\n",
       "    <text dy=\"1.25em\" style=\"font-size: 0.8em; letter-spacing: 1px\">\n",
       "        <textPath xlink:href=\"#arrow-7329d9608085472ba3ec79aeb21c921f-0-10\" class=\"displacy-label\" startOffset=\"50%\" side=\"left\" fill=\"currentColor\" text-anchor=\"middle\">prep</textPath>\n",
       "    </text>\n",
       "    <path class=\"displacy-arrowhead\" d=\"M1350.0,304.0 L1358.0,292.0 1342.0,292.0\" fill=\"currentColor\"/>\n",
       "</g>\n",
       "\n",
       "<g class=\"displacy-arrow\">\n",
       "    <path class=\"displacy-arc\" id=\"arrow-7329d9608085472ba3ec79aeb21c921f-0-11\" stroke-width=\"2px\" d=\"M1390,302.0 C1390,242.0 1470.0,242.0 1470.0,302.0\" fill=\"none\" stroke=\"currentColor\"/>\n",
       "    <text dy=\"1.25em\" style=\"font-size: 0.8em; letter-spacing: 1px\">\n",
       "        <textPath xlink:href=\"#arrow-7329d9608085472ba3ec79aeb21c921f-0-11\" class=\"displacy-label\" startOffset=\"50%\" side=\"left\" fill=\"currentColor\" text-anchor=\"middle\">pobj</textPath>\n",
       "    </text>\n",
       "    <path class=\"displacy-arrowhead\" d=\"M1470.0,304.0 L1478.0,292.0 1462.0,292.0\" fill=\"currentColor\"/>\n",
       "</g>\n",
       "\n",
       "<g class=\"displacy-arrow\">\n",
       "    <path class=\"displacy-arc\" id=\"arrow-7329d9608085472ba3ec79aeb21c921f-0-12\" stroke-width=\"2px\" d=\"M1510,302.0 C1510,242.0 1590.0,242.0 1590.0,302.0\" fill=\"none\" stroke=\"currentColor\"/>\n",
       "    <text dy=\"1.25em\" style=\"font-size: 0.8em; letter-spacing: 1px\">\n",
       "        <textPath xlink:href=\"#arrow-7329d9608085472ba3ec79aeb21c921f-0-12\" class=\"displacy-label\" startOffset=\"50%\" side=\"left\" fill=\"currentColor\" text-anchor=\"middle\">npadvmod</textPath>\n",
       "    </text>\n",
       "    <path class=\"displacy-arrowhead\" d=\"M1590.0,304.0 L1598.0,292.0 1582.0,292.0\" fill=\"currentColor\"/>\n",
       "</g>\n",
       "</svg></span>"
      ],
      "text/plain": [
       "<IPython.core.display.HTML object>"
      ]
     },
     "metadata": {},
     "output_type": "display_data"
    }
   ],
   "source": [
    "# use displacy to render the text\n",
    "displacy.render(doc, style='dep', jupyter=True, options={'distance':120})"
   ]
  },
  {
   "cell_type": "markdown",
   "metadata": {},
   "source": [
    "### Practice for the week\n",
    "Perform NER, POS tagging and dependency parser on the following text and observe the results. Refer to https://spacy.io/api for more information."
   ]
  },
  {
   "cell_type": "code",
   "execution_count": 9,
   "metadata": {},
   "outputs": [
    {
     "name": "stdout",
     "output_type": "stream",
     "text": [
      "                                                text\n",
      "0  From 1925 to 1945, Tolkien was the Rawlinson a...\n",
      "1  \\nFrom 1925 to 1945, Tolkien was the Rawlinson...\n"
     ]
    }
   ],
   "source": [
    "import pandas as pd\n",
    "import spacy\n",
    "\n",
    "raw_text1 = \"From 1925 to 1945, Tolkien was the Rawlinson and Bosworth Professor of Anglo-Saxon and a Fellow of Pembroke College, both at the University of Oxford. He then moved within the same university to become the Merton Professor of English Language and Literature and Fellow of Merton College, and held these positions from 1945 until his retirement in 1959. Tolkien was a close friend of C. S. Lewis, a co-member of the informal literary discussion group The Inklings. He was appointed a Commander of the Order of the British Empire by Queen Elizabeth II on 28 March 1972.\"\n",
    "\n",
    "raw_text2 = '''\n",
    "From 1925 to 1945, Tolkien was the Rawlinson and Bosworth Professor of Anglo-Saxon and a Fellow of Pembroke College, both at the University of Oxford. \n",
    "He then moved within the same university to become the Merton Professor of English Language and Literature and Fellow of Merton College, and held these positions from 1945 until his retirement in 1959. \n",
    "Tolkien was a close friend of C. S. Lewis, a co-member of the informal literary discussion group The Inklings. \n",
    "He was appointed a Commander of the Order of the British Empire by Queen Elizabeth II on 28 March 1972.\n",
    "'''\n",
    "\n",
    "df = pd.DataFrame([raw_text1, raw_text2], columns=['text'])\n",
    "print(df)"
   ]
  },
  {
   "cell_type": "code",
   "execution_count": 10,
   "metadata": {},
   "outputs": [],
   "source": [
    "# load the small English Model\n",
    "nlp = spacy.load('en_core_web_sm')\n",
    "\n",
    "# lists to store tokens and tags\n",
    "token = []\n",
    "pos = []\n",
    "\n",
    "# TODO: continue the codes from here\n",
    "for sent in nlp.pipe(df['text']):\n",
    "    pass"
   ]
  }
 ],
 "metadata": {
  "kernelspec": {
   "display_name": "py310",
   "language": "python",
   "name": "python3"
  },
  "language_info": {
   "codemirror_mode": {
    "name": "ipython",
    "version": 3
   },
   "file_extension": ".py",
   "mimetype": "text/x-python",
   "name": "python",
   "nbconvert_exporter": "python",
   "pygments_lexer": "ipython3",
   "version": "3.10.11"
  }
 },
 "nbformat": 4,
 "nbformat_minor": 2
}
